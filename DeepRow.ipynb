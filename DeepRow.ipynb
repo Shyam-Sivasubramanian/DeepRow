{
 "cells": [
  {
   "cell_type": "code",
   "execution_count": 6,
   "id": "4d7f1fe0",
   "metadata": {},
   "outputs": [],
   "source": [
    "import mediapipe as mp\n",
    "import cv2\n",
    "import numpy as np"
   ]
  },
  {
   "cell_type": "code",
   "execution_count": 7,
   "id": "cec3994e",
   "metadata": {},
   "outputs": [],
   "source": [
    "mp_drawing  = mp.solutions.drawing_utils\n",
    "mp_pose = mp.solutions.pose"
   ]
  },
  {
   "cell_type": "code",
   "execution_count": 8,
   "id": "21799078",
   "metadata": {},
   "outputs": [],
   "source": [
    "cap = cv2.VideoCapture('ROWTRAIN.mp4')\n",
    "\n",
    "with mp_pose.Pose(min_detection_confidence=0.5, min_tracking_confidence=0.5) as pose:\n",
    "    while cap.isOpened():\n",
    "        ret, image = cap.read()\n",
    "        \n",
    "        \n",
    "        #recolor\n",
    "        image = cv2.cvtColor(image, cv2.COLOR_BGR2RGB)\n",
    "        image.flags.writeable = False\n",
    "        \n",
    "        #detections\n",
    "        results = pose.process(image)\n",
    "        \n",
    "        #recolor back to RGB\n",
    "        image.flags.writeable = True\n",
    "        image = cv2.cvtColor(image, cv2.COLOR_RGB2BGR)\n",
    "        mp_drawing.draw_landmarks(image, results.pose_landmarks, mp_pose.POSE_CONNECTIONS\n",
    "                                 , mp_drawing.DrawingSpec(color=(245,117,66), thickness=2, circle_radius=4), \n",
    "                                 mp_drawing.DrawingSpec(color=(245, 66, 230), thickness=2, circle_radius=2)\n",
    "                                 )\n",
    "        \n",
    "        \n",
    "        \n",
    "        \n",
    "        \n",
    "        cv2.imshow('RawFeed', image)\n",
    "        \n",
    "        if cv2.waitKey(10) & 0xFF == ord('q'):\n",
    "            break\n",
    "            \n",
    "            \n",
    "cap.release()\n",
    "cv2.destroyAllWindows()"
   ]
  },
  {
   "cell_type": "code",
   "execution_count": 9,
   "id": "eb894c37",
   "metadata": {},
   "outputs": [],
   "source": [
    "import csv\n",
    "import os\n",
    "import numpy as np"
   ]
  },
  {
   "cell_type": "code",
   "execution_count": 10,
   "id": "b6e1626b",
   "metadata": {},
   "outputs": [],
   "source": [
    "num_coords = len(results.pose_landmarks.landmark)"
   ]
  },
  {
   "cell_type": "code",
   "execution_count": 11,
   "id": "af8dd515",
   "metadata": {},
   "outputs": [],
   "source": [
    "landmarks = ['class']\n",
    "for val in range (1, num_coords+1):\n",
    "    landmarks += ['x{}'.format(val), 'y{}'.format(val), 'z{}'.format(val), 'v{}'.format(val)]"
   ]
  },
  {
   "cell_type": "code",
   "execution_count": 12,
   "id": "6db11d4b",
   "metadata": {},
   "outputs": [],
   "source": [
    "with open ('trainData.csv', mode='w', newline ='') as f:\n",
    "    csv_writer = csv.writer(f, delimiter=',', quotechar='\"', quoting=csv.QUOTE_MINIMAL)\n",
    "    csv_writer.writerow(landmarks)"
   ]
  },
  {
   "cell_type": "code",
   "execution_count": 13,
   "id": "938d9dd6",
   "metadata": {},
   "outputs": [],
   "source": [
    "class_name = \"Catch\""
   ]
  },
  {
   "cell_type": "code",
   "execution_count": 14,
   "id": "efc8e349",
   "metadata": {},
   "outputs": [
    {
     "ename": "AttributeError",
     "evalue": "'RepeatedCompositeFieldContainer' object has no attribute 'process'",
     "output_type": "error",
     "traceback": [
      "\u001b[1;31m---------------------------------------------------------------------------\u001b[0m",
      "\u001b[1;31mAttributeError\u001b[0m                            Traceback (most recent call last)",
      "Input \u001b[1;32mIn [14]\u001b[0m, in \u001b[0;36m<cell line: 3>\u001b[1;34m()\u001b[0m\n\u001b[0;32m     10\u001b[0m image\u001b[38;5;241m.\u001b[39mflags\u001b[38;5;241m.\u001b[39mwriteable \u001b[38;5;241m=\u001b[39m \u001b[38;5;28;01mFalse\u001b[39;00m\n\u001b[0;32m     12\u001b[0m \u001b[38;5;66;03m#detections\u001b[39;00m\n\u001b[1;32m---> 13\u001b[0m results \u001b[38;5;241m=\u001b[39m \u001b[43mpose\u001b[49m\u001b[38;5;241;43m.\u001b[39;49m\u001b[43mprocess\u001b[49m(image)\n\u001b[0;32m     15\u001b[0m \u001b[38;5;66;03m#recolor back to RGB\u001b[39;00m\n\u001b[0;32m     16\u001b[0m image\u001b[38;5;241m.\u001b[39mflags\u001b[38;5;241m.\u001b[39mwriteable \u001b[38;5;241m=\u001b[39m \u001b[38;5;28;01mTrue\u001b[39;00m\n",
      "\u001b[1;31mAttributeError\u001b[0m: 'RepeatedCompositeFieldContainer' object has no attribute 'process'"
     ]
    }
   ],
   "source": [
    "cap = cv2.VideoCapture('CatchTrain.mp4')\n",
    "\n",
    "with mp_pose.Pose(min_detection_confidence=0.5, min_tracking_confidence=0.5) as pose:\n",
    "    while cap.isOpened():\n",
    "        ret, image = cap.read()\n",
    "        \n",
    "        \n",
    "        #recolor\n",
    "        image = cv2.cvtColor(image, cv2.COLOR_BGR2RGB)\n",
    "        image.flags.writeable = False\n",
    "        \n",
    "        #detections\n",
    "        results = pose.process(image)\n",
    "        \n",
    "        #recolor back to RGB\n",
    "        image.flags.writeable = True\n",
    "        image = cv2.cvtColor(image, cv2.COLOR_RGB2BGR)\n",
    "        mp_drawing.draw_landmarks(image, results.pose_landmarks, mp_pose.POSE_CONNECTIONS\n",
    "                                 , mp_drawing.DrawingSpec(color=(245,117,66), thickness=2, circle_radius=4), \n",
    "                                 mp_drawing.DrawingSpec(color=(245, 66, 230), thickness=2, circle_radius=2)\n",
    "                                 )\n",
    "        \n",
    "        #export coordinates\n",
    "        try:\n",
    "            pose = results.pose_landmarks.landmark #gets the pose landmarks\n",
    "            pose_row = np.array([[landmark.x, landmark.y, landmark.z, landmark.visibility] for landmark in pose]).flatten()\n",
    "                #gives each landmark component\n",
    "                # .flatten() collapses an array into a single dimension, [[1,2],[3,4]] --> [1,2,3,4]\n",
    "\n",
    "            pose_row.insert(0, class_name) #appends the class name to the CSV\n",
    "\n",
    "\n",
    "                #Exports to CSV\n",
    "\n",
    "            with open ('trainData.csv', 'a', newline ='') as f:\n",
    "                csv_writer = csv.writer(f, delimiter=',', quotechar='\"', quoting=csv.QUOTE_MINIMAL)\n",
    "                csv_writer.writerow(pose_row)\n",
    "               \n",
    "            \n",
    "            \n",
    "            \n",
    "        except Exception as e:\n",
    "            pass\n",
    "        \n",
    "        \n",
    "        \n",
    "        \n",
    "        \n",
    "        cv2.imshow('CatchFeed', image)\n",
    "        \n",
    "        if cv2.waitKey(10) & 0xFF == ord('q'):\n",
    "            break\n",
    "            \n",
    "            \n",
    "cap.release()\n",
    "cv2.destroyAllWindows()"
   ]
  },
  {
   "cell_type": "code",
   "execution_count": null,
   "id": "00ac2bf8",
   "metadata": {},
   "outputs": [],
   "source": []
  }
 ],
 "metadata": {
  "kernelspec": {
   "display_name": "Python 3 (ipykernel)",
   "language": "python",
   "name": "python3"
  },
  "language_info": {
   "codemirror_mode": {
    "name": "ipython",
    "version": 3
   },
   "file_extension": ".py",
   "mimetype": "text/x-python",
   "name": "python",
   "nbconvert_exporter": "python",
   "pygments_lexer": "ipython3",
   "version": "3.9.12"
  }
 },
 "nbformat": 4,
 "nbformat_minor": 5
}
